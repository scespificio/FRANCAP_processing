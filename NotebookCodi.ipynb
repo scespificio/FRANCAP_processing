{
 "cells": [
  {
   "cell_type": "code",
   "execution_count": 1,
   "id": "e885cba2",
   "metadata": {},
   "outputs": [
    {
     "data": {
      "text/plain": [
       "Index(['ISFROM_LOGO', 'CLE', 'CODE OP', 'DATE OP', 'MENTION SPECIFIQUE',\n",
       "       'CATEGORIE', 'INTITULE', 'GENCOD', 'MARQUE', 'ORIGINE', 'MECAPROMO',\n",
       "       'RONDE DES MARQUES', 'DESCRIPTIF', 'PRIX AU KG', 'PVC MAXI', 'BONUS',\n",
       "       'BONUS EN %', 'RI EN €', 'RI EN %', 'PVC NET', 'LOT VIRTUEL',\n",
       "       'PRIX AU KG DU LOT VIRTUEL', 'FORMAT GV', 'FORMAT MV', 'FORMAT MVK',\n",
       "       'FORMAT PV', 'PRODUIT DE UNE', 'PRODUIT EN DER', 'MISE EN AVANT',\n",
       "       'VIDE_2', 'PICTO', 'SR', 'CATALOG', 'CATALOG_MARKET', 'AFFICHE',\n",
       "       'SELECTION FRANCAP', 'SELECTION CODIFRANCE', 'INFO COMPLEMENTAIRES',\n",
       "       'PHOTO1', 'PHOTO2', 'PHOTO3', 'PHOTO4', 'PHOTO5', 'PHOTO6', 'PHOTO7',\n",
       "       'PHOTO8', 'DESCRIPTIF_2', 'PRIX AU KG_2', 'PRIX AU KG DU LOT VIRTUEL_2',\n",
       "       'DESCRIPTIF_3', 'PRIX AU KG_3', 'PRIX AU KG DU LOT VIRTUEL_3',\n",
       "       'DESCRIPTIF_4', 'PRIX AU KG_4', 'PRIX AU KG DU LOT VIRTUEL_4',\n",
       "       'DESCRIPTIF_5', 'PRIX AU KG_5', 'PRIX AU KG DU LOT VIRTUEL_5',\n",
       "       'DESCRIPTIF_6', 'PRIX AU KG_6', 'PRIX AU KG DU LOT VIRTUEL_6',\n",
       "       'SUPER_Page', 'SUPER_Rang', 'SUPER_Case', 'EXPRESS_Page',\n",
       "       'EXPRESS_Rang', 'EXPRESS_Case', 'MARKET_Page', 'MARKET_Rang',\n",
       "       'MARKET_Case', 'REGIO_Page', 'REGIO_Rang', 'REGIO_Case', 'SUPER_WP',\n",
       "       'EXPRESS_WP', 'MARKET_WP'],\n",
       "      dtype='object')"
      ]
     },
     "execution_count": 1,
     "metadata": {},
     "output_type": "execute_result"
    }
   ],
   "source": [
    "import pandas as pd\n",
    "import re\n",
    "\n",
    "\n",
    "# Chemin du fichier Excel\n",
    "fichier_excel = '/Users/stevecostalat/Downloads/SAISIE_CODIFRANCE_OP2507_2025-06-21 12_51_16.407839.xlsx'\n",
    "\n",
    "# Charger la première feuille par défaut\n",
    "df = pd.read_excel(fichier_excel)\n",
    "df['RONDE DES MARQUES'] = df['RONDE DES MARQUES'].apply(lambda x : True if str(x).strip() in ['X', 'x'] else False)\n",
    "\n",
    "# Afficher les 5 premières lignes\n",
    "df.columns\n"
   ]
  },
  {
   "cell_type": "code",
   "execution_count": 2,
   "id": "7fddf83a",
   "metadata": {},
   "outputs": [],
   "source": [
    "df = df[df.CLE.isin([11,12,13])].copy()"
   ]
  },
  {
   "cell_type": "code",
   "execution_count": null,
   "id": "15fb773a",
   "metadata": {},
   "outputs": [
    {
     "name": "stdout",
     "output_type": "stream",
     "text": [
      "['Coulis mangue passion ', 'Les 2 pots de 125 g']\n",
      "<class 'int'>\n",
      "<class 'int'>\n",
      "['Spray après piqure', 'La pièce de 25 ml', 'Family care spray lotion', 'Le flacon de 100 ml', 'Protection multi insectes spray lotion', 'Le flacon de 100 ml ']\n",
      "<class 'int'>\n",
      "<class 'int'>\n",
      "<class 'int'>\n",
      "<class 'int'>\n",
      "<class 'int'>\n",
      "<class 'int'>\n",
      "['4 en 1 ', 'Le bidon de 750 ml ']\n",
      "<class 'int'>\n",
      "<class 'int'>\n",
      "['Spray nettoyant expert crasse et calcaire', 'Le pistolet de 750 ml', 'Spray nettoyant expert javel ', 'Le pistolet de 750 ml', 'Spray neyttoyant expert dégraissant ', 'Le pistolet de 750 ml ', 'Spray nettoyant expert anti-moisissure ', 'Le pistolet de 750 ml ']\n",
      "<class 'int'>\n",
      "<class 'int'>\n",
      "<class 'int'>\n",
      "<class 'int'>\n",
      "<class 'int'>\n",
      "<class 'int'>\n",
      "<class 'int'>\n",
      "<class 'int'>\n",
      "['Framboise', 'Le pot de 340 g']\n",
      "<class 'int'>\n",
      "<class 'int'>\n",
      "['Figues rouges ', 'Le pot de 340 g']\n",
      "<class 'int'>\n",
      "<class 'int'>\n",
      "['Le pot de 340 g']\n",
      "<class 'int'>\n"
     ]
    },
    {
     "ename": "IndexError",
     "evalue": "list index out of range",
     "output_type": "error",
     "traceback": [
      "\u001b[31m---------------------------------------------------------------------------\u001b[39m",
      "\u001b[31mIndexError\u001b[39m                                Traceback (most recent call last)",
      "\u001b[36mCell\u001b[39m\u001b[36m \u001b[39m\u001b[32mIn[2]\u001b[39m\u001b[32m, line 15\u001b[39m\n\u001b[32m     10\u001b[39m             row[\u001b[33mf\u001b[39m\u001b[33m\"\u001b[39m\u001b[33mDESCRIPTIF\u001b[39m\u001b[38;5;132;01m{\u001b[39;00m\u001b[33m'\u001b[39m\u001b[33m_\u001b[39m\u001b[33m'\u001b[39m\u001b[38;5;250m \u001b[39m+\u001b[38;5;250m \u001b[39m\u001b[38;5;28mstr\u001b[39m(i)\u001b[38;5;132;01m}\u001b[39;00m\u001b[33m\"\u001b[39m] = desc[i]\n\u001b[32m     13\u001b[39m     \u001b[38;5;28;01mreturn\u001b[39;00m row\n\u001b[32m---> \u001b[39m\u001b[32m15\u001b[39m df = \u001b[43mdf\u001b[49m\u001b[43m.\u001b[49m\u001b[43mapply\u001b[49m\u001b[43m(\u001b[49m\u001b[43mparse_descriptif\u001b[49m\u001b[43m,\u001b[49m\u001b[43m \u001b[49m\u001b[43maxis\u001b[49m\u001b[43m=\u001b[49m\u001b[32;43m1\u001b[39;49m\u001b[43m)\u001b[49m\n\u001b[32m     16\u001b[39m data = df[[\u001b[33m'\u001b[39m\u001b[33mCLE\u001b[39m\u001b[33m'\u001b[39m,\u001b[33m'\u001b[39m\u001b[33mSR\u001b[39m\u001b[33m'\u001b[39m,\u001b[33m'\u001b[39m\u001b[33mCATALOG\u001b[39m\u001b[33m'\u001b[39m,\u001b[33m'\u001b[39m\u001b[33mGENCOD\u001b[39m\u001b[33m'\u001b[39m,\u001b[33m'\u001b[39m\u001b[33mINTITULE\u001b[39m\u001b[33m'\u001b[39m,\u001b[33m'\u001b[39m\u001b[33mMARQUE\u001b[39m\u001b[33m'\u001b[39m,\u001b[33m'\u001b[39m\u001b[33mPHOTO2\u001b[39m\u001b[33m'\u001b[39m,\u001b[33m'\u001b[39m\u001b[33mRONDE DES MARQUES\u001b[39m\u001b[33m'\u001b[39m,\u001b[33m'\u001b[39m\u001b[33mDESCRIPTIF\u001b[39m\u001b[33m'\u001b[39m,\u001b[33m'\u001b[39m\u001b[33mDESCRIPTIF_2\u001b[39m\u001b[33m'\u001b[39m,\u001b[33m'\u001b[39m\u001b[33mDESCRIPTIF_3\u001b[39m\u001b[33m'\u001b[39m,\u001b[33m'\u001b[39m\u001b[33mDESCRIPTIF_4\u001b[39m\u001b[33m'\u001b[39m,\u001b[33m'\u001b[39m\u001b[33mDESCRIPTIF_5\u001b[39m\u001b[33m'\u001b[39m,\u001b[33m'\u001b[39m\u001b[33mDESCRIPTIF_6\u001b[39m\u001b[33m'\u001b[39m]]\n\u001b[32m     17\u001b[39m data\n",
      "\u001b[36mFile \u001b[39m\u001b[32m~/miniconda3/envs/FRANCAP/lib/python3.12/site-packages/pandas/core/frame.py:10381\u001b[39m, in \u001b[36mDataFrame.apply\u001b[39m\u001b[34m(self, func, axis, raw, result_type, args, by_row, engine, engine_kwargs, **kwargs)\u001b[39m\n\u001b[32m  10367\u001b[39m \u001b[38;5;28;01mfrom\u001b[39;00m\u001b[38;5;250m \u001b[39m\u001b[34;01mpandas\u001b[39;00m\u001b[34;01m.\u001b[39;00m\u001b[34;01mcore\u001b[39;00m\u001b[34;01m.\u001b[39;00m\u001b[34;01mapply\u001b[39;00m\u001b[38;5;250m \u001b[39m\u001b[38;5;28;01mimport\u001b[39;00m frame_apply\n\u001b[32m  10369\u001b[39m op = frame_apply(\n\u001b[32m  10370\u001b[39m     \u001b[38;5;28mself\u001b[39m,\n\u001b[32m  10371\u001b[39m     func=func,\n\u001b[32m   (...)\u001b[39m\u001b[32m  10379\u001b[39m     kwargs=kwargs,\n\u001b[32m  10380\u001b[39m )\n\u001b[32m> \u001b[39m\u001b[32m10381\u001b[39m \u001b[38;5;28;01mreturn\u001b[39;00m \u001b[43mop\u001b[49m\u001b[43m.\u001b[49m\u001b[43mapply\u001b[49m\u001b[43m(\u001b[49m\u001b[43m)\u001b[49m.__finalize__(\u001b[38;5;28mself\u001b[39m, method=\u001b[33m\"\u001b[39m\u001b[33mapply\u001b[39m\u001b[33m\"\u001b[39m)\n",
      "\u001b[36mFile \u001b[39m\u001b[32m~/miniconda3/envs/FRANCAP/lib/python3.12/site-packages/pandas/core/apply.py:916\u001b[39m, in \u001b[36mFrameApply.apply\u001b[39m\u001b[34m(self)\u001b[39m\n\u001b[32m    913\u001b[39m \u001b[38;5;28;01melif\u001b[39;00m \u001b[38;5;28mself\u001b[39m.raw:\n\u001b[32m    914\u001b[39m     \u001b[38;5;28;01mreturn\u001b[39;00m \u001b[38;5;28mself\u001b[39m.apply_raw(engine=\u001b[38;5;28mself\u001b[39m.engine, engine_kwargs=\u001b[38;5;28mself\u001b[39m.engine_kwargs)\n\u001b[32m--> \u001b[39m\u001b[32m916\u001b[39m \u001b[38;5;28;01mreturn\u001b[39;00m \u001b[38;5;28;43mself\u001b[39;49m\u001b[43m.\u001b[49m\u001b[43mapply_standard\u001b[49m\u001b[43m(\u001b[49m\u001b[43m)\u001b[49m\n",
      "\u001b[36mFile \u001b[39m\u001b[32m~/miniconda3/envs/FRANCAP/lib/python3.12/site-packages/pandas/core/apply.py:1063\u001b[39m, in \u001b[36mFrameApply.apply_standard\u001b[39m\u001b[34m(self)\u001b[39m\n\u001b[32m   1061\u001b[39m \u001b[38;5;28;01mdef\u001b[39;00m\u001b[38;5;250m \u001b[39m\u001b[34mapply_standard\u001b[39m(\u001b[38;5;28mself\u001b[39m):\n\u001b[32m   1062\u001b[39m     \u001b[38;5;28;01mif\u001b[39;00m \u001b[38;5;28mself\u001b[39m.engine == \u001b[33m\"\u001b[39m\u001b[33mpython\u001b[39m\u001b[33m\"\u001b[39m:\n\u001b[32m-> \u001b[39m\u001b[32m1063\u001b[39m         results, res_index = \u001b[38;5;28;43mself\u001b[39;49m\u001b[43m.\u001b[49m\u001b[43mapply_series_generator\u001b[49m\u001b[43m(\u001b[49m\u001b[43m)\u001b[49m\n\u001b[32m   1064\u001b[39m     \u001b[38;5;28;01melse\u001b[39;00m:\n\u001b[32m   1065\u001b[39m         results, res_index = \u001b[38;5;28mself\u001b[39m.apply_series_numba()\n",
      "\u001b[36mFile \u001b[39m\u001b[32m~/miniconda3/envs/FRANCAP/lib/python3.12/site-packages/pandas/core/apply.py:1081\u001b[39m, in \u001b[36mFrameApply.apply_series_generator\u001b[39m\u001b[34m(self)\u001b[39m\n\u001b[32m   1078\u001b[39m \u001b[38;5;28;01mwith\u001b[39;00m option_context(\u001b[33m\"\u001b[39m\u001b[33mmode.chained_assignment\u001b[39m\u001b[33m\"\u001b[39m, \u001b[38;5;28;01mNone\u001b[39;00m):\n\u001b[32m   1079\u001b[39m     \u001b[38;5;28;01mfor\u001b[39;00m i, v \u001b[38;5;129;01min\u001b[39;00m \u001b[38;5;28menumerate\u001b[39m(series_gen):\n\u001b[32m   1080\u001b[39m         \u001b[38;5;66;03m# ignore SettingWithCopy here in case the user mutates\u001b[39;00m\n\u001b[32m-> \u001b[39m\u001b[32m1081\u001b[39m         results[i] = \u001b[38;5;28;43mself\u001b[39;49m\u001b[43m.\u001b[49m\u001b[43mfunc\u001b[49m\u001b[43m(\u001b[49m\u001b[43mv\u001b[49m\u001b[43m,\u001b[49m\u001b[43m \u001b[49m\u001b[43m*\u001b[49m\u001b[38;5;28;43mself\u001b[39;49m\u001b[43m.\u001b[49m\u001b[43margs\u001b[49m\u001b[43m,\u001b[49m\u001b[43m \u001b[49m\u001b[43m*\u001b[49m\u001b[43m*\u001b[49m\u001b[38;5;28;43mself\u001b[39;49m\u001b[43m.\u001b[49m\u001b[43mkwargs\u001b[49m\u001b[43m)\u001b[49m\n\u001b[32m   1082\u001b[39m         \u001b[38;5;28;01mif\u001b[39;00m \u001b[38;5;28misinstance\u001b[39m(results[i], ABCSeries):\n\u001b[32m   1083\u001b[39m             \u001b[38;5;66;03m# If we have a view on v, we need to make a copy because\u001b[39;00m\n\u001b[32m   1084\u001b[39m             \u001b[38;5;66;03m#  series_generator will swap out the underlying data\u001b[39;00m\n\u001b[32m   1085\u001b[39m             results[i] = results[i].copy(deep=\u001b[38;5;28;01mFalse\u001b[39;00m)\n",
      "\u001b[36mCell\u001b[39m\u001b[36m \u001b[39m\u001b[32mIn[2]\u001b[39m\u001b[32m, line 8\u001b[39m, in \u001b[36mparse_descriptif\u001b[39m\u001b[34m(row)\u001b[39m\n\u001b[32m      6\u001b[39m \u001b[38;5;28mprint\u001b[39m(\u001b[38;5;28mtype\u001b[39m(i//\u001b[32m2\u001b[39m+\u001b[32m1\u001b[39m))\n\u001b[32m      7\u001b[39m \u001b[38;5;28;01mif\u001b[39;00m i%\u001b[32m2\u001b[39m==\u001b[32m0\u001b[39m \u001b[38;5;129;01mand\u001b[39;00m i*\u001b[32m2\u001b[39m+\u001b[32m1\u001b[39m <= \u001b[38;5;28mlen\u001b[39m(desc):\n\u001b[32m----> \u001b[39m\u001b[32m8\u001b[39m     row[\u001b[33mf\u001b[39m\u001b[33m\"\u001b[39m\u001b[33mDESCRIPTIF\u001b[39m\u001b[38;5;132;01m{\u001b[39;00m\u001b[33m'\u001b[39m\u001b[33m'\u001b[39m\u001b[38;5;250m \u001b[39m\u001b[38;5;28;01mif\u001b[39;00m\u001b[38;5;250m \u001b[39mi==\u001b[32m0\u001b[39m\u001b[38;5;250m \u001b[39m\u001b[38;5;28;01melse\u001b[39;00m\u001b[38;5;250m \u001b[39m\u001b[33m'\u001b[39m\u001b[33m_\u001b[39m\u001b[33m'\u001b[39m\u001b[38;5;250m \u001b[39m+\u001b[38;5;250m \u001b[39m\u001b[38;5;28mstr\u001b[39m(i//\u001b[32m2\u001b[39m+\u001b[32m1\u001b[39m)\u001b[38;5;132;01m}\u001b[39;00m\u001b[33m\"\u001b[39m] = desc[\u001b[32m2\u001b[39m*i//\u001b[32m2\u001b[39m] + \u001b[33m'\u001b[39m\u001b[38;5;130;01m\\n\u001b[39;00m\u001b[33m'\u001b[39m + \u001b[43mdesc\u001b[49m\u001b[43m[\u001b[49m\u001b[32;43m2\u001b[39;49m\u001b[43m*\u001b[49m\u001b[43mi\u001b[49m\u001b[43m/\u001b[49m\u001b[43m/\u001b[49m\u001b[32;43m2\u001b[39;49m\u001b[43m+\u001b[49m\u001b[32;43m1\u001b[39;49m\u001b[43m]\u001b[49m\n\u001b[32m      9\u001b[39m \u001b[38;5;28;01melif\u001b[39;00m i%\u001b[32m2\u001b[39m==\u001b[32m1\u001b[39m \u001b[38;5;129;01mand\u001b[39;00m re.search(regex, desc[i]):\n\u001b[32m     10\u001b[39m     row[\u001b[33mf\u001b[39m\u001b[33m\"\u001b[39m\u001b[33mDESCRIPTIF\u001b[39m\u001b[38;5;132;01m{\u001b[39;00m\u001b[33m'\u001b[39m\u001b[33m_\u001b[39m\u001b[33m'\u001b[39m\u001b[38;5;250m \u001b[39m+\u001b[38;5;250m \u001b[39m\u001b[38;5;28mstr\u001b[39m(i)\u001b[38;5;132;01m}\u001b[39;00m\u001b[33m\"\u001b[39m] = desc[i]\n",
      "\u001b[31mIndexError\u001b[39m: list index out of range"
     ]
    }
   ],
   "source": [
    "def parse_descriptif(row):  \n",
    "    desc = row['DESCRIPTIF'].split('\\n')\n",
    "    regex = r\"\\b(\\d+(\\.\\d+)?\\s?(cm|g|mg|ml|cl|l))\\b\"\n",
    "    print(desc)\n",
    "    for i in range(len(desc)):\n",
    "        print(type(i//2+1))\n",
    "        if i%2==0 and i*2+1 <= len(desc):\n",
    "            row[f\"DESCRIPTIF{'' if i==0 else '_' + str(i//2+1)}\"] = desc[2*i//2] + '\\n' + desc[2*i//2+1]\n",
    "        elif i%2==1 and re.search(regex, desc[i]):\n",
    "            row[f\"DESCRIPTIF{'_' + str(i)}\"] = desc[i]\n",
    "    return row\n",
    "\n",
    "df = df.apply(parse_descriptif, axis=1)\n",
    "data = df[['CLE','SR','CATALOG','GENCOD','INTITULE','MARQUE','PHOTO2','RONDE DES MARQUES','DESCRIPTIF','DESCRIPTIF_2','DESCRIPTIF_3','DESCRIPTIF_4','DESCRIPTIF_5','DESCRIPTIF_6']]\n",
    "data"
   ]
  },
  {
   "cell_type": "code",
   "execution_count": null,
   "id": "0f526f4f",
   "metadata": {},
   "outputs": [],
   "source": [
    "#Est ce que la ronde des marques est à splitter en SR? NON"
   ]
  },
  {
   "cell_type": "code",
   "execution_count": null,
   "id": "0fc47c84",
   "metadata": {},
   "outputs": [],
   "source": [
    "df[df.CLE==11]['DESCRIPTIF']"
   ]
  },
  {
   "cell_type": "code",
   "execution_count": null,
   "id": "b0b4abd2",
   "metadata": {},
   "outputs": [],
   "source": [
    "def apply_sr_process(df):\n",
    "    #selectionner les conditions de degroupage, SR, et Catalogue:\n",
    "    isgroup = (~df['RONDE DES MARQUES']) & \\\n",
    "            ((df['PHOTO2'].notna()) | (df['DESCRIPTIF_2'].notna()))\n",
    "    return df[isgroup]\n",
    "\n",
    "data = apply_sr_process(df)[['CLE','SR','CATALOG','GENCOD','INTITULE','MARQUE','PHOTO2','RONDE DES MARQUES','DESCRIPTIF','DESCRIPTIF_2','DESCRIPTIF_3','DESCRIPTIF_4','DESCRIPTIF_5','DESCRIPTIF_6']]\n",
    "data"
   ]
  },
  {
   "cell_type": "code",
   "execution_count": null,
   "id": "b22811bb",
   "metadata": {},
   "outputs": [],
   "source": [
    "data['DESCRIPTIF']\n"
   ]
  },
  {
   "cell_type": "code",
   "execution_count": null,
   "id": "b4b011f6",
   "metadata": {},
   "outputs": [],
   "source": []
  }
 ],
 "metadata": {
  "kernelspec": {
   "display_name": "FRANCAP",
   "language": "python",
   "name": "python3"
  },
  "language_info": {
   "codemirror_mode": {
    "name": "ipython",
    "version": 3
   },
   "file_extension": ".py",
   "mimetype": "text/x-python",
   "name": "python",
   "nbconvert_exporter": "python",
   "pygments_lexer": "ipython3",
   "version": "3.12.2"
  }
 },
 "nbformat": 4,
 "nbformat_minor": 5
}
